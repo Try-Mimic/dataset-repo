{
 "cells": [
  {
   "cell_type": "code",
   "execution_count": 1,
   "metadata": {},
   "outputs": [],
   "source": [
    "# import requests\n",
    "# import string\n",
    "# from bs4 import BeautifulSoup\n",
    "\n",
    "# ext=string.ascii_lowercase\n",
    "# ext2=ext=string.ascii_uppercase\n",
    "\n",
    "# url='https://www.rxlist.com/drugs/alpha_'\n"
   ]
  },
  {
   "cell_type": "code",
   "execution_count": 2,
   "metadata": {},
   "outputs": [],
   "source": [
    "# def get_url_list(url):\n",
    "#     pages=[]\n",
    "#     for x in ext:\n",
    "#         ur=url+x+'.htm'\n",
    "#         soup = BeautifulSoup(requests.get(ur).content, 'html.parser')\n",
    "#         dat=soup.find(\"div\", class_=\"AZ_results\").find_all('li')\n",
    "#         pages.append([(x.a.text,x.a['href']) for x in dat])\n",
    "#     return pages"
   ]
  },
  {
   "cell_type": "code",
   "execution_count": 3,
   "metadata": {},
   "outputs": [],
   "source": [
    "# url2=\"https://www.drugs.com/alpha/\"a/"
   ]
  },
  {
   "cell_type": "code",
   "execution_count": 4,
   "metadata": {},
   "outputs": [],
   "source": [
    "# for x in ext:\n",
    "#     ur=url2+x+'.html'\n",
    "#     soup =BeautifulSoup(requests.get(ur).content,'html.parser')\n",
    "#     dat=[x.text for x in soup.find('ul',class_=\"ddc-paging\").find_all('li')]\n",
    "#     for x in dat:\n",
    "#         ur=url2+x+'.html'\n",
    "#         print(ur)\n",
    "#         soup =BeautifulSoup(requests.get(ur).content,'html.parser')\n",
    "#         print(soup.prettify())\n",
    "#         print(soup.find(\"div\",class_=\"contentBox\").find_all('ul'))\n",
    "#         dat=soup.find(\"ul\", class_=\"ddc-list-column-2\")\n",
    "#         print(dat)\n",
    "#         break  \n",
    "#     break   \n",
    "#         pages.append([(x.a.text,x.a['href']) for x in dat])\n",
    "#         print([(x.a.text,x.a['href']) for x in dat])\n",
    "        \n",
    "#### dosent work ####\n",
    "#### need to try selenium for \"drugs.com\"#####"
   ]
  },
  {
   "cell_type": "code",
   "execution_count": 5,
   "metadata": {},
   "outputs": [],
   "source": [
    "# url3=\"https://www.webmd.com/drugs/2/alpha/\""
   ]
  },
  {
   "cell_type": "code",
   "execution_count": 6,
   "metadata": {},
   "outputs": [],
   "source": [
    "# for x in ext:\n",
    "#     ur=url2+x+'/'\n",
    "#     print(ur)\n",
    "#     soup =BeautifulSoup(requests.get(ur).content,'html.parser')\n",
    "#     print(soup)\n",
    "# #     dat=soup.find(\"div\",class_=\"drugs-browse-subbox\")\n",
    "# #     print(dat)\n",
    "\n",
    "# #####even this require selenium####"
   ]
  },
  {
   "cell_type": "code",
   "execution_count": 7,
   "metadata": {},
   "outputs": [],
   "source": [
    "# url4=\"https://medlineplus.gov/druginfo/drug_\""
   ]
  },
  {
   "cell_type": "code",
   "execution_count": 8,
   "metadata": {},
   "outputs": [],
   "source": [
    "# for x in ext2:\n",
    "#     ur=url4+x+\"a.html\"\n",
    "#     soup =BeautifulSoup(requests.get(ur).content,'html.parser')\n",
    "#     dat= soup.article\n",
    "# #     print(dat)\n",
    "#     dat=dat.find('ul',id='index')\n",
    "#     dat=dat.find_all('li',class_=None)\n",
    "#     print([x for x in dat])\n",
    "\n",
    "    \n",
    "\n",
    "    "
   ]
  },
  {
   "cell_type": "code",
   "execution_count": 20,
   "metadata": {},
   "outputs": [],
   "source": [
    "url=\"https://www.mayoclinic.org/diseases-conditions/index?letter=\"\n",
    "    "
   ]
  },
  {
   "cell_type": "code",
   "execution_count": 21,
   "metadata": {},
   "outputs": [],
   "source": [
    "import requests\n",
    "import string\n",
    "from bs4 import BeautifulSoup\n",
    "\n",
    "ext=string.ascii_lowercase\n",
    "ext2=ext=string.ascii_uppercase"
   ]
  },
  {
   "cell_type": "code",
   "execution_count": 22,
   "metadata": {},
   "outputs": [],
   "source": [
    "\n",
    "for x in ext2:\n",
    "    ur=url+x\n",
    "    soup =BeautifulSoup(requests.get(ur).content,'html.parser')\n",
    "    dat= soup.find(\"div\",id=\"index\")\n",
    "    dat= [x for x in dat.find_all(\"li\")]\n",
    "    data=[]\n",
    "    for x in dat:\n",
    "        t =x.find('a')\n",
    "        t2=x.text.strip()\n",
    "        if t2 ==t.text.strip():\n",
    "            data.append((t2,t['href']))\n",
    "        \n",
    "    break\n",
    "    \n",
    "#     dat=dat.find(\"div\",)"
   ]
  },
  {
   "cell_type": "code",
   "execution_count": 38,
   "metadata": {},
   "outputs": [
    {
     "name": "stdout",
     "output_type": "stream",
     "text": [
      "('Absence seizure', '/diseases-conditions/petit-mal-seizure/symptoms-causes/syc-20359683')\n"
     ]
    }
   ],
   "source": [
    "dat=[]\n",
    "print(data[1])"
   ]
  },
  {
   "cell_type": "code",
   "execution_count": 23,
   "metadata": {},
   "outputs": [],
   "source": [
    "url1=\"https://www.mayoclinic.org\"\n",
    "url2=\"https://www.mayoclinic.org/diseases-conditions/abdominal-aortic-aneurysm/symptoms-causes/syc-20350688?p=1\""
   ]
  },
  {
   "cell_type": "code",
   "execution_count": 48,
   "metadata": {},
   "outputs": [
    {
     "name": "stdout",
     "output_type": "stream",
     "text": [
      "h2----Overview\n",
      "p----An abdominal aortic aneurysm is an enlarged area in the lower part of the major vessel that supplies blood to the body (aorta). The aorta runs from your heart through the center of your chest and abdomen.\n",
      "p----The aorta is the largest blood vessel in the body, so a ruptured abdominal aortic aneurysm can cause life-threatening bleeding.\n",
      "p----Depending on the size of the aneurysm and how fast it's growing, treatment varies from watchful waiting to emergency surgery.\n",
      "h2----Symptoms\n",
      "p----Abdominal aortic aneurysms often grow slowly without symptoms, making them difficult to detect. Some aneurysms never rupture. Many start small and stay small; others expand over time, some quickly.\n",
      "p----If you have an enlarging abdominal aortic aneurysm, you might notice:\n",
      "ul----Deep, constant pain in your abdomen or on the side of your abdomen\n",
      "Back pain\n",
      "A pulse near your bellybutton\n",
      "h3----When to see a doctor\n",
      "p----If you have pain, especially if pain is sudden and severe, seek immediate medical help.\n",
      "h2----Causes\n",
      "p----Aneurysms can develop anywhere along the aorta, but most aortic aneurysms occur in the part of your aorta that's in your abdomen. A number of factors can play a role in developing an aortic aneurysm, including:\n",
      "ul----Hardening of the arteries (atherosclerosis). Atherosclerosis occurs when fat and other substances build up on the lining of a blood vessel.\n",
      "High blood pressure. High blood pressure can damage and weaken the aorta's walls.\n",
      "Blood vessel diseases. These are diseases that cause blood vessels to become inflamed.\n",
      "Infection in the aorta. Rarely, a bacterial or fungal infection might cause an abdominal aortic aneurysms.\n",
      "Trauma. For example, being in a car accident can cause an abdominal aortic aneurysms.\n",
      "h2----Risk factors\n",
      "p----Abdominal aortic aneurysm risk factors include:\n",
      "ul----Tobacco use. Smoking is the strongest risk factor. It can weaken the aortic walls, increasing the risk not only of developing an aortic aneurysm, but of rupture. The longer and more you smoke or chew tobacco, the greater the chances of developing an aortic aneurysm.\n",
      "Age. These aneurysms occur most often in people age 65 and older.\n",
      "Being male. Men develop abdominal aortic aneurysms much more often than women do.\n",
      "Being white. People who are white are at higher risk of abdominal aortic aneurysms.\n",
      "Family history. Having a family history of abdominal aortic aneurysms increases your risk of having the condition.\n",
      "Other aneurysms. Having an aneurysm in another large blood vessel, such as the artery behind the knee or the aorta in the chest, might increase your risk of an abdominal aortic aneurysm.\n",
      "h2----Complications\n",
      "p----Tears in one or more of the layers of the wall of the aorta (aortic dissection) or a ruptured aneurysm are the main complications. A rupture can cause life-threatening internal bleeding. In general, the larger the aneurysm and the faster it grows, the greater the risk of rupture.\n",
      "p----Signs and symptoms that your aortic aneurysm has ruptured can include:\n",
      "ul----Sudden, intense and persistent abdominal or back pain, which can be described as a tearing sensation\n",
      "Low blood pressure\n",
      "Fast pulse\n",
      "p----Aortic aneurysms also put you at risk of developing blood clots in the area. If a blood clot breaks loose from the inside wall of an aneurysm and blocks a blood vessel elsewhere in your body, it can cause pain or block the blood flow to the legs, toes, kidneys or abdominal organs.\n",
      "h2----Prevention\n",
      "p----To prevent an aortic aneurysm or keep an aortic aneurysm from worsening, do the following:\n",
      "ul----Don't use tobacco products. Quit smoking or chewing tobacco and avoid secondhand smoke.\n",
      "Eat a healthy diet. Focus on eating a variety of fruits and vegetables, whole grains, poultry, fish and low-fat dairy products. Avoid saturated fat, trans fats and limit salt.\n",
      "Keep your blood pressure and cholesterol under control. If your doctor has prescribed medications, take them as instructed.\n",
      "Get regular exercise. Try to get at least 150 minutes a week of moderate aerobic activity. If you haven't been active, start slowly and build up. Talk to your doctor about what kinds of activities are right for you.\n",
      "p----If you're at risk of an aortic aneurysm, your doctor might recommend other measures, such as medications to lower your blood pressure and relieve stress on weakened arteries.\n"
     ]
    }
   ],
   "source": [
    "for x in data:\n",
    "    ur=url1+x[1]+\"?p=1\"\n",
    "    soup =BeautifulSoup(requests.get(ur).content,'html.parser')\n",
    "    dat=soup.find('div',class_=\"content\")\n",
    "    for heading in dat.find_all([\"h1\", \"h2\", \"h3\",\"ul\",\"p\"]):\n",
    "        print(heading.name +\"----\"+  heading.text.strip())\n",
    "    break"
   ]
  },
  {
   "cell_type": "code",
   "execution_count": 15,
   "metadata": {},
   "outputs": [],
   "source": [
    "# dat=soup.find(\"div\",class_=\"content\")\n",
    "# print(soup)\n",
    "# dat=dat.find_all(\"div\")[2]\n"
   ]
  },
  {
   "cell_type": "code",
   "execution_count": 16,
   "metadata": {},
   "outputs": [
    {
     "ename": "AttributeError",
     "evalue": "'list' object has no attribute 'next_element'",
     "output_type": "error",
     "traceback": [
      "\u001b[0;31m---------------------------------------------------------------------------\u001b[0m",
      "\u001b[0;31mAttributeError\u001b[0m                            Traceback (most recent call last)",
      "\u001b[0;32m<ipython-input-16-51807dbff79c>\u001b[0m in \u001b[0;36m<module>\u001b[0;34m\u001b[0m\n\u001b[0;32m----> 1\u001b[0;31m \u001b[0md\u001b[0m\u001b[0;34m=\u001b[0m\u001b[0mdat\u001b[0m\u001b[0;34m.\u001b[0m\u001b[0mnext_element\u001b[0m\u001b[0;34m\u001b[0m\u001b[0;34m\u001b[0m\u001b[0m\n\u001b[0m\u001b[1;32m      2\u001b[0m \u001b[0;32mfor\u001b[0m \u001b[0mx\u001b[0m \u001b[0;32min\u001b[0m \u001b[0mrange\u001b[0m\u001b[0;34m(\u001b[0m\u001b[0;36m10\u001b[0m\u001b[0;34m)\u001b[0m\u001b[0;34m:\u001b[0m\u001b[0;34m\u001b[0m\u001b[0;34m\u001b[0m\u001b[0m\n\u001b[1;32m      3\u001b[0m     \u001b[0md\u001b[0m\u001b[0;34m=\u001b[0m\u001b[0md\u001b[0m\u001b[0;34m.\u001b[0m\u001b[0mnext_element\u001b[0m\u001b[0;34m\u001b[0m\u001b[0;34m\u001b[0m\u001b[0m\n\u001b[1;32m      4\u001b[0m     \u001b[0mprint\u001b[0m\u001b[0;34m(\u001b[0m\u001b[0md\u001b[0m\u001b[0;34m)\u001b[0m\u001b[0;34m\u001b[0m\u001b[0;34m\u001b[0m\u001b[0m\n",
      "\u001b[0;31mAttributeError\u001b[0m: 'list' object has no attribute 'next_element'"
     ]
    }
   ],
   "source": [
    "d=dat.next_element\n",
    "for x in range(10):\n",
    "    d=d.next_element\n",
    "    print(d)"
   ]
  },
  {
   "cell_type": "code",
   "execution_count": null,
   "metadata": {},
   "outputs": [],
   "source": []
  }
 ],
 "metadata": {
  "kernelspec": {
   "display_name": "Python 3",
   "language": "python",
   "name": "python3"
  },
  "language_info": {
   "codemirror_mode": {
    "name": "ipython",
    "version": 3
   },
   "file_extension": ".py",
   "mimetype": "text/x-python",
   "name": "python",
   "nbconvert_exporter": "python",
   "pygments_lexer": "ipython3",
   "version": "3.7.4"
  }
 },
 "nbformat": 4,
 "nbformat_minor": 2
}
